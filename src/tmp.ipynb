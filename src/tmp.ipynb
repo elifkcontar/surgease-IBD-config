{
 "cells": [
  {
   "cell_type": "code",
   "execution_count": 2,
   "metadata": {},
   "outputs": [],
   "source": [
    "import numpy as np\n",
    "from scipy.special import xlogy"
   ]
  },
  {
   "cell_type": "code",
   "execution_count": 3,
   "metadata": {},
   "outputs": [],
   "source": [
    "def CDW_CE(y_true, y_pred):\n",
    "    return 0    "
   ]
  },
  {
   "cell_type": "code",
   "execution_count": 19,
   "metadata": {},
   "outputs": [
    {
     "name": "stdout",
     "output_type": "stream",
     "text": [
      "[[[1 1 1 0]\n",
      "  [0 0 1 1]]]\n",
      "---------------------------------------------\n",
      "[[[0 0 0 1]\n",
      "  [1 1 0 0]]]\n",
      "3\n",
      "[[[-0.         -0.         -0.          0.91629073]\n",
      "  [ 0.35667494  1.60943791 -0.         -0.        ]]]\n",
      "2.8824035882469876\n",
      "[2.88240359]\n"
     ]
    }
   ],
   "source": [
    "#predicted = np.array([0.7,0.2,0.3,0.4],[0.1,0.2,0.3,0.4],[0.1,0.2,0.8,0.3],[0.1,0.2,0.3,0.8])\n",
    "y_true = np.array([[[0,0,0,1]]])\n",
    "y_pred = np.array([[[0.7,0.2,0.3,0.4]]])\n",
    "\n",
    "#y_true = np.array([[[1,0,0,0]], [[0,1,0,0]], [[0,0,1,0]], [[0,0,0,1]])\n",
    "#y_pred = np.random.random(size=(3, 1, 4))\n",
    "\n",
    "y_true_reverse = (y_true<1).astype('uint8')\n",
    "print(y_true_reverse)\n",
    "\n",
    "error = -xlogy(y_true_reverse, y_pred).sum(axis=(1, 2))\n",
    "#print(-xlogy(y_true_reverse, y_pred))\n",
    "a=-xlogy(y_true_reverse, y_pred)\n",
    "#print()\n",
    "#print(error.mean())\n",
    "#print(-xlogy(y_true_reverse, y_pred).sum(axis=(1, 2)))\n",
    "\n",
    "print('---------------------------------------------')\n",
    "print(y_true)\n",
    "print(np.argmax(y_true))\n",
    "\n",
    "error = -xlogy(y_true, y_pred).sum(axis=(1, 2))\n",
    "print(-xlogy(y_true, y_pred))\n",
    "print(error.mean())\n",
    "print(-xlogy(y_true, y_pred).sum(axis=(1, 2)))\n",
    "\n",
    "\n",
    "\n",
    "\n"
   ]
  },
  {
   "cell_type": "code",
   "execution_count": 8,
   "metadata": {},
   "outputs": [
    {
     "name": "stdout",
     "output_type": "stream",
     "text": [
      "[-0.05737254 -0.01459131  0.11483466 -0.06978213  0.05771579]\n"
     ]
    },
    {
     "data": {
      "image/png": "[encoded data removed]",
      "text/plain": [
       "<Figure size 432x288 with 1 Axes>"
      ]
     },
     "metadata": {
      "needs_background": "light"
     },
     "output_type": "display_data"
    },
    {
     "name": "stdout",
     "output_type": "stream",
     "text": [
      "[[-0.8746509   0.75962924  0.13071432  0.05279866 -1.63861245  0.06993467\n",
      "   0.60911671 -1.49065684 -0.27105833  0.65556116  0.98512065 -1.3991882\n",
      "  -1.63997539 -0.53527537  1.55778125  2.04980156 -0.96188949  0.83595114\n",
      "  -0.63396791 -2.36075632  0.07726349  0.44366742 -0.21220066  0.47289662\n",
      "   0.06247591 -0.69058836 -1.07318402 -0.20173865  0.64149635  0.91525367\n",
      "   1.29632625  0.10192238 -1.04318824  1.01880613  1.03444052  1.92887213\n",
      "   0.44529908 -1.22227704 -0.68716006 -1.26112155  0.82682877 -0.48229073\n",
      "   0.27375343  0.91893471  1.70683959 -0.35200176 -1.58083394 -0.09792391\n",
      "  -0.46897243  0.15582283]]\n"
     ]
    }
   ],
   "source": [
    "mu, sigma = 0,0.1\n",
    "s = np.random.normal(mu, sigma, 5)\n",
    "print(s)\n",
    "import matplotlib.pyplot as plt\n",
    "count, bins, ignored = plt.hist(A, 30, density=True)\n",
    "plt.plot(bins, 1/(sigma * np.sqrt(2 * np.pi)) *\n",
    "               np.exp( - (bins - mu)**2 / (2 * sigma**2) ),\n",
    "         linewidth=2, color='r')\n",
    "plt.show()\n",
    "\n",
    "A = np.random.normal(0, 1, (3, 3))\n",
    "print(A)"
   ]
  }
 ],
 "metadata": {
  "kernelspec": {
   "display_name": "Python 3.9.12 ('surgease_exp_st')",
   "language": "python",
   "name": "python3"
  },
  "language_info": {
   "codemirror_mode": {
    "name": "ipython",
    "version": 3
   },
   "file_extension": ".py",
   "mimetype": "text/x-python",
   "name": "python",
   "nbconvert_exporter": "python",
   "pygments_lexer": "ipython3",
   "version": "3.9.12"
  },
  "orig_nbformat": 4,
  "vscode": {
   "interpreter": {
    "hash": "7acb7eaf3aff3b1308814540ddbaca2d072b42694b762a511ccd49c3649597a2"
   }
  }
 },
 "nbformat": 4,
 "nbformat_minor": 2
}
